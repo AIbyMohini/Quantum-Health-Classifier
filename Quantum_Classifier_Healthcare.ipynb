{
  "nbformat": 4,
  "nbformat_minor": 0,
  "metadata": {
    "colab": {
      "provenance": [],
      "authorship_tag": "ABX9TyNuODwriNRXWx1b/DAsyJzT",
      "include_colab_link": true
    },
    "kernelspec": {
      "name": "python3",
      "display_name": "Python 3"
    },
    "language_info": {
      "name": "python"
    }
  },
  "cells": [
    {
      "cell_type": "markdown",
      "metadata": {
        "id": "view-in-github",
        "colab_type": "text"
      },
      "source": [
        "<a href=\"https://colab.research.google.com/github/AIbyMohini/Quantum-Health-Classifier/blob/main/Quantum_Classifier_Healthcare.ipynb\" target=\"_parent\"><img src=\"https://colab.research.google.com/assets/colab-badge.svg\" alt=\"Open In Colab\"/></a>"
      ]
    },
    {
      "cell_type": "code",
      "execution_count": 4,
      "metadata": {
        "colab": {
          "base_uri": "https://localhost:8080/"
        },
        "id": "8F_dXM0RO4hW",
        "outputId": "c25cd20a-e467-46ed-ab07-752ee3d25377"
      },
      "outputs": [
        {
          "output_type": "stream",
          "name": "stdout",
          "text": [
            "Epoch 5: cost=0.7711\n",
            "Epoch 10: cost=0.7251\n",
            "Epoch 15: cost=0.7037\n",
            "Epoch 20: cost=0.6932\n",
            "Epoch 25: cost=0.6872\n",
            "Epoch 30: cost=0.6833\n",
            "Test accuracy: 0.73\n"
          ]
        }
      ],
      "source": [
        "# Mohini_Gohel_Project - Quantum Health: A Quantum Machine Learning Classifier for Diabetes Prediction\n",
        "\n",
        "\"\"\"In this project, I built a quantum classifier using the Pima Indians Diabetes dataset to predict\n",
        "whether a patient has diabetes or not. We combined classical data preprocessing techniques like\n",
        "PCA (Principal Component Analysis) with quantum circuits to explore the potential of\n",
        "hybrid quantum-classical machine learning.\"\"\"\n",
        "\n",
        "# Install required libraries\n",
        "# !pip install pennylane scikit-learn matplotlib pandas\n",
        "\n",
        "import pennylane as qml\n",
        "from pennylane import numpy as np\n",
        "from sklearn.model_selection import train_test_split\n",
        "from sklearn.preprocessing import StandardScaler\n",
        "from sklearn.metrics import accuracy_score\n",
        "from sklearn.decomposition import PCA\n",
        "import matplotlib.pyplot as plt\n",
        "import pandas as pd\n",
        "\n",
        "\n",
        "# Load the dataset (Pima Indians Diabetes dataset)\n",
        "url = \"https://raw.githubusercontent.com/plotly/datasets/master/diabetes.csv\"\n",
        "df = pd.read_csv(url)\n",
        "\n",
        "# Use only 2 features for visualization simplicity: Glucose and BMI\n",
        "X = df[['Glucose', 'BMI']].values\n",
        "y = df['Outcome'].values  # 0 for non-diabetic, 1 for diabetic\n",
        "\n",
        "# Standardize the features\n",
        "scaler = StandardScaler()\n",
        "X_scaled = scaler.fit_transform(X)\n",
        "\n",
        "# Train-test split\n",
        "X_train, X_test, y_train, y_test = train_test_split(\n",
        "    X_scaled, y, test_size=0.2, random_state=42\n",
        ")\n",
        "\n",
        "# Quantum device: 2 qubits\n",
        "dev = qml.device(\"default.qubit\", wires=2)\n",
        "\n",
        "# Quantum circuit\n",
        "@qml.qnode(dev)\n",
        "def circuit(weights, x):\n",
        "    qml.templates.AngleEmbedding(x, wires=[0, 1])\n",
        "    qml.templates.StronglyEntanglingLayers(weights, wires=[0, 1])\n",
        "    return qml.expval(qml.PauliZ(0))\n",
        "\n",
        "# Loss function (square loss)\n",
        "def cost(weights, bias, X, Y):\n",
        "    predictions = np.array([circuit(weights, x) + bias for x in X])\n",
        "    return np.mean((predictions - (2*Y - 1)) ** 2)\n",
        "\n",
        "# Quantum classifier\n",
        "def quantum_classifier(weights, bias, x):\n",
        "    return np.sign(circuit(weights, x) + bias)\n",
        "\n",
        "# Initialize parameters\n",
        "num_layers = 3\n",
        "weights = np.random.randn(num_layers, 2, 3, requires_grad=True)\n",
        "bias = np.array(0.0, requires_grad=True)\n",
        "\n",
        "# Optimizer\n",
        "opt = qml.GradientDescentOptimizer(stepsize=0.2)\n",
        "\n",
        "# Training loop\n",
        "epochs = 30\n",
        "for epoch in range(epochs):\n",
        "    # Update parameters\n",
        "    weights, bias = opt.step(lambda w, b: cost(w, b, X_train, y_train), weights, bias)\n",
        "\n",
        "    # Compute current cost\n",
        "    c = cost(weights, bias, X_train, y_train)\n",
        "\n",
        "    if (epoch+1) % 5 == 0:\n",
        "        print(f\"Epoch {epoch+1}: cost={c:.4f}\")\n",
        "\n",
        "# Predictions\n",
        "y_pred = [quantum_classifier(weights, bias, x) for x in X_test]\n",
        "y_pred = (np.array(y_pred) > 0).astype(int)\n",
        "\n",
        "# Accuracy\n",
        "acc = accuracy_score(y_test, y_pred)\n",
        "print(f\"Test accuracy: {acc:.2f}\")\n"
      ]
    },
    {
      "cell_type": "code",
      "source": [
        "from sklearn.decomposition import PCA\n",
        "\n",
        "# Apply PCA to reduce to 2 principal components\n",
        "pca = PCA(n_components=2)\n",
        "X_pca = pca.fit_transform(X)\n",
        "\n",
        "# Standardize the PCA features\n",
        "X_pca_scaled = scaler.fit_transform(X_pca)\n",
        "\n",
        "# Train-test split again\n",
        "X_train, X_test, y_train, y_test = train_test_split(\n",
        "    X_pca_scaled, y, test_size=0.2, random_state=42\n",
        ")\n",
        "\n",
        "print(\"Shape after PCA:\", X_pca_scaled.shape)\n"
      ],
      "metadata": {
        "colab": {
          "base_uri": "https://localhost:8080/"
        },
        "id": "GrpCA1_2U37a",
        "outputId": "ad38fcf6-a1e4-49a5-d864-a25ccf3af4cd"
      },
      "execution_count": 5,
      "outputs": [
        {
          "output_type": "stream",
          "name": "stdout",
          "text": [
            "Shape after PCA: (768, 2)\n"
          ]
        }
      ]
    },
    {
      "cell_type": "code",
      "source": [
        "import matplotlib.pyplot as plt\n",
        "\n",
        "# Create a meshgrid to plot decision boundaries\n",
        "h = 0.02\n",
        "x_min, x_max = X_pca_scaled[:, 0].min() - 1, X_pca_scaled[:, 0].max() + 1\n",
        "y_min, y_max = X_pca_scaled[:, 1].min() - 1, X_pca_scaled[:, 1].max() + 1\n",
        "xx, yy = np.meshgrid(np.arange(x_min, x_max, h), np.arange(y_min, y_max, h))\n",
        "\n",
        "# Flatten grid\n",
        "grid = np.c_[xx.ravel(), yy.ravel()]\n",
        "\n",
        "# Predict on the grid\n",
        "Z = [quantum_classifier(weights, bias, point) for point in grid]\n",
        "Z = (np.array(Z) > 0).astype(int)\n",
        "Z = Z.reshape(xx.shape)\n",
        "\n",
        "# Plot decision boundary\n",
        "plt.contourf(xx, yy, Z, cmap=plt.cm.coolwarm, alpha=0.8)\n",
        "plt.scatter(X_test[:, 0], X_test[:, 1], c=y_test, edgecolors='k', cmap=plt.cm.coolwarm)\n",
        "plt.xlabel('PCA 1')\n",
        "plt.ylabel('PCA 2')\n",
        "plt.title('Quantum Classifier Decision Boundary')\n",
        "plt.show()\n"
      ],
      "metadata": {
        "id": "obdxMtrrU-Ez"
      },
      "execution_count": null,
      "outputs": []
    }
  ]
}